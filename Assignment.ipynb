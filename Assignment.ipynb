{
 "cells": [
  {
   "cell_type": "code",
   "execution_count": 1,
   "id": "daea71e7-7a21-4137-be50-37dacedd2515",
   "metadata": {},
   "outputs": [],
   "source": [
    "#Q1. Create one variable containing following type of data:\n",
    "s = \"sudh\"\n",
    "l = [2,3,4,5,6,\"pwskills\"]\n",
    "num = 3.4\n",
    "mytuple = (\"apple\", \"banana\", \"cherry\")"
   ]
  },
  {
   "cell_type": "code",
   "execution_count": 4,
   "id": "e7f2f782-b2fe-4f1a-a954-0149ed7dd19c",
   "metadata": {},
   "outputs": [
    {
     "data": {
      "text/plain": [
       "str"
      ]
     },
     "execution_count": 4,
     "metadata": {},
     "output_type": "execute_result"
    }
   ],
   "source": [
    "type(s)"
   ]
  },
  {
   "cell_type": "code",
   "execution_count": 5,
   "id": "fb0d44b3-35d2-4431-b67c-e7d382f28ce2",
   "metadata": {},
   "outputs": [
    {
     "data": {
      "text/plain": [
       "list"
      ]
     },
     "execution_count": 5,
     "metadata": {},
     "output_type": "execute_result"
    }
   ],
   "source": [
    "type(l)"
   ]
  },
  {
   "cell_type": "code",
   "execution_count": 6,
   "id": "01328345-a7b9-455f-abc2-5b55a4bb96fb",
   "metadata": {},
   "outputs": [
    {
     "data": {
      "text/plain": [
       "float"
      ]
     },
     "execution_count": 6,
     "metadata": {},
     "output_type": "execute_result"
    }
   ],
   "source": [
    "type(num)"
   ]
  },
  {
   "cell_type": "code",
   "execution_count": 7,
   "id": "70523577-6308-4672-adf2-c07b56a2ecc5",
   "metadata": {},
   "outputs": [
    {
     "data": {
      "text/plain": [
       "tuple"
      ]
     },
     "execution_count": 7,
     "metadata": {},
     "output_type": "execute_result"
    }
   ],
   "source": [
    "type(mytuple)"
   ]
  },
  {
   "cell_type": "code",
   "execution_count": 8,
   "id": "553e318a-da82-4826-a52f-39fe13a5af13",
   "metadata": {},
   "outputs": [
    {
     "data": {
      "text/plain": [
       "str"
      ]
     },
     "execution_count": 8,
     "metadata": {},
     "output_type": "execute_result"
    }
   ],
   "source": [
    "#Q2. Given are some following variables containing data:\n",
    "var1=''\n",
    "type(var1)"
   ]
  },
  {
   "cell_type": "code",
   "execution_count": 11,
   "id": "8749c9df-611c-43b7-b699-349884b5aaab",
   "metadata": {},
   "outputs": [
    {
     "data": {
      "text/plain": [
       "list"
      ]
     },
     "execution_count": 11,
     "metadata": {},
     "output_type": "execute_result"
    }
   ],
   "source": [
    "var3 = [ 'DS' , 'ML' , 'Python']\n",
    "type(var3)"
   ]
  },
  {
   "cell_type": "code",
   "execution_count": 13,
   "id": "1a4937bc-4a42-4383-863a-6dbfe823bd32",
   "metadata": {},
   "outputs": [
    {
     "data": {
      "text/plain": [
       "float"
      ]
     },
     "execution_count": 13,
     "metadata": {},
     "output_type": "execute_result"
    }
   ],
   "source": [
    "var4 = 1.\n",
    "type(var4)"
   ]
  },
  {
   "cell_type": "code",
   "execution_count": 14,
   "id": "ef609582-a6a5-42e0-8249-cfd46364eba6",
   "metadata": {},
   "outputs": [
    {
     "data": {
      "text/plain": [
       "1.25"
      ]
     },
     "execution_count": 14,
     "metadata": {},
     "output_type": "execute_result"
    }
   ],
   "source": [
    "#Q3. Explain the use of the following operators using an example:\n",
    "5/4"
   ]
  },
  {
   "cell_type": "code",
   "execution_count": 15,
   "id": "5013a667-c461-4b68-a451-47238b7ffe92",
   "metadata": {},
   "outputs": [
    {
     "data": {
      "text/plain": [
       "1"
      ]
     },
     "execution_count": 15,
     "metadata": {},
     "output_type": "execute_result"
    }
   ],
   "source": [
    "5%4"
   ]
  },
  {
   "cell_type": "code",
   "execution_count": 16,
   "id": "ab11260c-2f1a-43fa-9be3-cee80440fbcf",
   "metadata": {},
   "outputs": [
    {
     "data": {
      "text/plain": [
       "1"
      ]
     },
     "execution_count": 16,
     "metadata": {},
     "output_type": "execute_result"
    }
   ],
   "source": [
    "5//4"
   ]
  },
  {
   "cell_type": "code",
   "execution_count": 17,
   "id": "e7a40f47-188b-49ea-a506-5a8f6bc94a0d",
   "metadata": {},
   "outputs": [
    {
     "data": {
      "text/plain": [
       "8"
      ]
     },
     "execution_count": 17,
     "metadata": {},
     "output_type": "execute_result"
    }
   ],
   "source": [
    "2**3"
   ]
  },
  {
   "cell_type": "code",
   "execution_count": 18,
   "id": "ec1c062a-a7c7-436b-a211-cc804c892ab3",
   "metadata": {},
   "outputs": [
    {
     "name": "stdout",
     "output_type": "stream",
     "text": [
      "2\n",
      "3\n",
      "4.4\n",
      "pwskills\n",
      "True\n",
      "a\n",
      "454\n",
      "True\n",
      "False\n",
      "ashish\n"
     ]
    }
   ],
   "source": [
    "#Q4. Create a list of length 10 of your choice containing multiple types of data. Using for loop print the\n",
    "l = [2,3,4.4, \"pwskills\", \"True\", 'a', 454, True , False,\"ashish\"]\n",
    "for i in l:\n",
    "    print(i)"
   ]
  },
  {
   "cell_type": "code",
   "execution_count": null,
   "id": "896d67d2-543e-411b-9406-c8b8c58d24ac",
   "metadata": {},
   "outputs": [],
   "source": [
    "#Q5. Using a while loop, verify if the number A is purely divisible by number B and if so then how many\n",
    "#times it can be divisible.\n",
    "\n",
    "please esplain this"
   ]
  },
  {
   "cell_type": "code",
   "execution_count": 19,
   "id": "a3aa861f-5636-413d-b3d4-afe883a231e9",
   "metadata": {},
   "outputs": [
    {
     "name": "stdout",
     "output_type": "stream",
     "text": [
      "Not Divisible\n",
      "Not Divisible\n",
      "3\n",
      "Not Divisible\n",
      "Not Divisible\n",
      "6\n",
      "Not Divisible\n",
      "Not Divisible\n",
      "9\n",
      "Not Divisible\n",
      "Not Divisible\n",
      "12\n",
      "Not Divisible\n",
      "Not Divisible\n",
      "15\n",
      "Not Divisible\n",
      "Not Divisible\n",
      "18\n",
      "Not Divisible\n",
      "Not Divisible\n",
      "21\n",
      "Not Divisible\n",
      "Not Divisible\n",
      "24\n",
      "Not Divisible\n"
     ]
    }
   ],
   "source": [
    "#Q6. Create a list containing 25 int type data. Using for loop and if-else condition print if the element is\n",
    "#divisible by 3 or not.\n",
    "\n",
    "l=[1,2,3,4,5,6,7,8,9,10,11,12,13,14,15,16,17,18,19,20,21,22,23,24,25]\n",
    "for i in l:\n",
    "    if i%3 == 0:\n",
    "        print(i)\n",
    "    else:\n",
    "        print(\"Not Divisible\")"
   ]
  },
  {
   "cell_type": "code",
   "execution_count": null,
   "id": "bd130e38-e5f3-4f0c-b4f7-7458b6e00088",
   "metadata": {},
   "outputs": [],
   "source": []
  }
 ],
 "metadata": {
  "kernelspec": {
   "display_name": "Python 3 (ipykernel)",
   "language": "python",
   "name": "python3"
  },
  "language_info": {
   "codemirror_mode": {
    "name": "ipython",
    "version": 3
   },
   "file_extension": ".py",
   "mimetype": "text/x-python",
   "name": "python",
   "nbconvert_exporter": "python",
   "pygments_lexer": "ipython3",
   "version": "3.10.8"
  },
  "toc-autonumbering": true,
  "toc-showcode": false,
  "toc-showmarkdowntxt": true
 },
 "nbformat": 4,
 "nbformat_minor": 5
}
