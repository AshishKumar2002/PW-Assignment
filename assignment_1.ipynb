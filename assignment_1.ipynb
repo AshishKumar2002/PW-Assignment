{
 "cells": [
  {
   "cell_type": "code",
   "execution_count": null,
   "id": "39af8cee-1ace-4c8f-b23e-a2319254e255",
   "metadata": {},
   "outputs": [],
   "source": [
    "Q1. How do you comment code in Python? What are the different types of comments?\n",
    "Types of comment :1 Single-line Comment:\n",
    "                     by using # or //\n",
    "                  2 Multi-line comment\n",
    "                    \"\"\"     \"\"\""
   ]
  },
  {
   "cell_type": "code",
   "execution_count": null,
   "id": "b14f2bf2-8d2f-434f-994a-2030e0e7f088",
   "metadata": {},
   "outputs": [],
   "source": [
    "Q2. What are variables in Python? How do you declare and assign values to variables?\n",
    "ans: Variable are the named memory loaction to store values\n",
    "       num1=90"
   ]
  },
  {
   "cell_type": "code",
   "execution_count": null,
   "id": "7afddda9-ac01-4784-a6af-846f01626768",
   "metadata": {},
   "outputs": [],
   "source": [
    "Q3. How do you convert one data type to another in Python?\n",
    "ans:convert one data type to another using type casting or conversion functions."
   ]
  },
  {
   "cell_type": "code",
   "execution_count": null,
   "id": "8e0811e3-7354-4b90-a96a-874a69471504",
   "metadata": {},
   "outputs": [],
   "source": [
    "Q4. How do you write and execute a Python script from the command line?"
   ]
  },
  {
   "cell_type": "code",
   "execution_count": 5,
   "id": "5c5fe103-ece9-41f9-a626-02f22e809362",
   "metadata": {},
   "outputs": [
    {
     "data": {
      "text/plain": [
       "[2, 3, 4]"
      ]
     },
     "execution_count": 5,
     "metadata": {},
     "output_type": "execute_result"
    }
   ],
   "source": [
    "# Q5. Given a list my_list = [1, 2, 3, 4, 5], write the code to slice the list and obtain the sub-list [2, 3].\n",
    "my_list = [1, 2, 3, 4, 5]\n",
    "my_list[1:4]"
   ]
  },
  {
   "cell_type": "code",
   "execution_count": null,
   "id": "2c563c82-279c-4da0-92d3-7cb18ace417b",
   "metadata": {},
   "outputs": [],
   "source": [
    "Q6. What is a complex number in mathematics, and how is it represented in Python?\n",
    "The complex number is basically the combination of a real number and an imaginary number. The complex number is in the form of a+ib, where a = real number and ib = imaginary number.\n",
    "syntax: a + numj"
   ]
  },
  {
   "cell_type": "code",
   "execution_count": null,
   "id": "109fdf15-ffd2-4383-820e-f0f24b2d8d74",
   "metadata": {},
   "outputs": [],
   "source": [
    "Q7. What is the correct way to declare a variable named age and assign the value 25 to it?\n",
    "Ans=> age=25"
   ]
  },
  {
   "cell_type": "code",
   "execution_count": null,
   "id": "ae932c8f-3cf0-4dc5-a1e5-be8dfbb07c72",
   "metadata": {},
   "outputs": [],
   "source": [
    "Q8. Declare a variable named price and assign the value 9.99 to it. What data type does this variable\n",
    "belong to?\n",
    "ans: price=9.99\n",
    "float data type"
   ]
  },
  {
   "cell_type": "code",
   "execution_count": 6,
   "id": "ada886cd-a35c-427c-be06-52f14f25e2a6",
   "metadata": {},
   "outputs": [
    {
     "name": "stdout",
     "output_type": "stream",
     "text": [
      "ashish kumar\n"
     ]
    }
   ],
   "source": [
    "# Q9. Create a variable named name and assign your full name to it as a string. How would you print the\n",
    "# value of this variable?\n",
    "name=\"ashish kumar\"\n",
    "print(name)"
   ]
  },
  {
   "cell_type": "code",
   "execution_count": 7,
   "id": "dcba2e69-356c-4d7c-904a-544a2aff647d",
   "metadata": {},
   "outputs": [
    {
     "name": "stdout",
     "output_type": "stream",
     "text": [
      "World\n"
     ]
    }
   ],
   "source": [
    "# Q10. Given the string \"Hello, World!\", extract the substring \"World\".\n",
    "str=\"Hello, World\"\n",
    "print(str[7:12])"
   ]
  },
  {
   "cell_type": "code",
   "execution_count": 8,
   "id": "06fb396b-da58-422d-a867-ade4871b5da5",
   "metadata": {},
   "outputs": [
    {
     "name": "stdout",
     "output_type": "stream",
     "text": [
      "True\n"
     ]
    }
   ],
   "source": [
    "# Q11. Create a variable named \"is_student\" and assign it a boolean value indicating whether you are\n",
    "# currently a student or not.\n",
    "is_student=True\n",
    "print(is_student)"
   ]
  },
  {
   "cell_type": "code",
   "execution_count": null,
   "id": "47030a78-be67-4903-b0eb-4bf30e1ad10f",
   "metadata": {},
   "outputs": [],
   "source": []
  }
 ],
 "metadata": {
  "kernelspec": {
   "display_name": "Python 3 (ipykernel)",
   "language": "python",
   "name": "python3"
  },
  "language_info": {
   "codemirror_mode": {
    "name": "ipython",
    "version": 3
   },
   "file_extension": ".py",
   "mimetype": "text/x-python",
   "name": "python",
   "nbconvert_exporter": "python",
   "pygments_lexer": "ipython3",
   "version": "3.10.8"
  }
 },
 "nbformat": 4,
 "nbformat_minor": 5
}
